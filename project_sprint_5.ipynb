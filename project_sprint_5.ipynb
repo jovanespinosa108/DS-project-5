{
 "cells": [
  {
   "cell_type": "markdown",
   "metadata": {},
   "source": [
    "1  ¿Cuál es la mejor tarifa?\n",
    "\n",
    "Trabajas como analista para el operador de telecomunicaciones Megaline. La empresa ofrece a sus clientes dos tarifas de prepago, Surf y Ultimate. El departamento comercial quiere saber cuál de las tarifas genera más ingresos para poder ajustar el presupuesto de publicidad.\n",
    "\n",
    "Vas a realizar un análisis preliminar de las tarifas basado en una selección de clientes relativamente pequeña. Tendrás los datos de 500 clientes de Megaline: quiénes son los clientes, de dónde son, qué tarifa usan, así como la cantidad de llamadas que hicieron y los mensajes de texto que enviaron en 2018. Tu trabajo es analizar el comportamiento de los clientes y determinar qué tarifa de prepago genera más ingresos."
   ]
  },
  {
   "cell_type": "markdown",
   "metadata": {},
   "source": [
    "[Te proporcionamos algunos comentarios para orientarte mientras completas este proyecto. Pero debes asegurarte de eliminar todos los comentarios entre corchetes antes de entregar tu proyecto.]\n",
    "\n",
    "[Antes de sumergirte en el análisis de datos, explica por tu propia cuenta el propósito del proyecto y las acciones que planeas realizar.]\n",
    "\n",
    "[Ten en cuenta que estudiar, modificar y analizar datos es un proceso iterativo. Es normal volver a los pasos anteriores y corregirlos/ampliarlos para permitir nuevos pasos.]"
   ]
  },
  {
   "cell_type": "markdown",
   "metadata": {},
   "source": [
    "1.1  Inicialización"
   ]
  },
  {
   "cell_type": "code",
   "execution_count": 54,
   "metadata": {},
   "outputs": [],
   "source": [
    "# Cargar todas las librerías\n",
    "import pandas as pd\n",
    "import numpy as np\n",
    "from scipy import stats as st\n",
    "import math as mt\n",
    "from math import factorial\n"
   ]
  },
  {
   "cell_type": "markdown",
   "metadata": {},
   "source": [
    "1.2  Cargar datos"
   ]
  },
  {
   "cell_type": "code",
   "execution_count": 55,
   "metadata": {},
   "outputs": [],
   "source": [
    "# Carga los archivos de datos en diferentes DataFrames\n",
    "calls_df = pd.read_csv('megaline_calls.csv')\n",
    "internet_df = pd.read_csv('megaline_internet.csv')\n",
    "messages_df = pd.read_csv('megaline_messages.csv')\n",
    "plans_df = pd.read_csv('megaline_plans.csv')\n",
    "users_df = pd.read_csv('megaline_users.csv')\n"
   ]
  },
  {
   "cell_type": "markdown",
   "metadata": {},
   "source": [
    "1.3  Preparar los datos\n",
    "\n",
    "[Los datos para este proyecto se dividen en varias tablas. Explora cada una para tener una comprensión inicial de los datos. Si es necesario, haz las correcciones requeridas en cada tabla.]\n",
    "\n",
    "1.4  Tarifas"
   ]
  },
  {
   "cell_type": "code",
   "execution_count": 56,
   "metadata": {},
   "outputs": [
    {
     "name": "stdout",
     "output_type": "stream",
     "text": [
      "<class 'pandas.core.frame.DataFrame'>\n",
      "RangeIndex: 2 entries, 0 to 1\n",
      "Data columns (total 8 columns):\n",
      " #   Column                 Non-Null Count  Dtype  \n",
      "---  ------                 --------------  -----  \n",
      " 0   messages_included      2 non-null      int64  \n",
      " 1   mb_per_month_included  2 non-null      int64  \n",
      " 2   minutes_included       2 non-null      int64  \n",
      " 3   usd_monthly_pay        2 non-null      int64  \n",
      " 4   usd_per_gb             2 non-null      int64  \n",
      " 5   usd_per_message        2 non-null      float64\n",
      " 6   usd_per_minute         2 non-null      float64\n",
      " 7   plan_name              2 non-null      object \n",
      "dtypes: float64(2), int64(5), object(1)\n",
      "memory usage: 260.0+ bytes\n",
      "None\n"
     ]
    }
   ],
   "source": [
    "# Imprime la información general/resumida sobre el DataFrame de las tarifas\n",
    "print(plans_df.info())\n"
   ]
  },
  {
   "cell_type": "code",
   "execution_count": 57,
   "metadata": {},
   "outputs": [
    {
     "name": "stdout",
     "output_type": "stream",
     "text": [
      "Muestra de los datos para las tarifas\n",
      "\n",
      "   messages_included  mb_per_month_included  minutes_included  \\\n",
      "0                 50                  15360               500   \n",
      "1               1000                  30720              3000   \n",
      "\n",
      "   usd_monthly_pay  usd_per_gb  usd_per_message  usd_per_minute plan_name  \n",
      "0               20          10             0.03            0.03      surf  \n",
      "1               70           7             0.01            0.01  ultimate  \n"
     ]
    }
   ],
   "source": [
    "# Imprime una muestra de los datos para las tarifas\n",
    "print('Muestra de los datos para las tarifas\\n')\n",
    "print(plans_df.head())"
   ]
  },
  {
   "cell_type": "markdown",
   "metadata": {},
   "source": [
    "[Describe lo que ves y observas en la información general y en la muestra de datos impresa para el precio de datos anterior. ¿Hay algún problema (tipos de datos no adecuados, datos ausentes, etc.) que pudieran necesitar investigación y cambios adicionales? ¿Cómo se puede arreglar?]\n",
    "\n",
    "El Dataset contiene 8 columnas, al parecer todas tiene los tipos correctos de datos y los nombres son claros a excepcion de usd_monthly_pay, creo que seria mejor usd_montly_fee, ninguna columna tiene datos ausentes. solo es actualizar el nombre de 1 columna."
   ]
  },
  {
   "cell_type": "markdown",
   "metadata": {},
   "source": [
    "1.5  Corregir datos\n",
    "\n",
    "[Corrige los problemas obvios con los datos basándote en las observaciones iniciales.]"
   ]
  },
  {
   "cell_type": "code",
   "execution_count": 58,
   "metadata": {},
   "outputs": [
    {
     "name": "stdout",
     "output_type": "stream",
     "text": [
      "Index(['messages_included', 'mb_included', 'minutes_included',\n",
      "       'usd_monthly_fee', 'usd_per_gb_exceeded', 'usd_per_message_exceeded',\n",
      "       'usd_per_minute_exceeded', 'plan_name'],\n",
      "      dtype='object')\n"
     ]
    }
   ],
   "source": [
    "# Cambio de nombre en columna para mejor claridad y descripcion\n",
    "plans_df = plans_df.rename(columns = {'mb_per_month_included': 'mb_included',\n",
    "                                      'usd_monthly_pay': 'usd_monthly_fee',\n",
    "                                      'usd_per_gb': 'usd_per_gb_exceeded',\n",
    "                                      'usd_per_message': 'usd_per_message_exceeded',\n",
    "                                      'usd_per_minute': 'usd_per_minute_exceeded'}\n",
    "                          )\n",
    "print(plans_df.columns)"
   ]
  },
  {
   "cell_type": "markdown",
   "metadata": {},
   "source": [
    "1.6  Enriquecer los datos\n",
    "\n",
    "[Agrega factores adicionales a los datos si crees que pudieran ser útiles.]"
   ]
  },
  {
   "cell_type": "code",
   "execution_count": 59,
   "metadata": {},
   "outputs": [
    {
     "name": "stdout",
     "output_type": "stream",
     "text": [
      "\n",
      "Costo unitario por servicio incluido en cada plan\n",
      "\n",
      "   messages_included  mb_included  minutes_included  usd_monthly_fee  \\\n",
      "0                 50        15360               500               20   \n",
      "1               1000        30720              3000               70   \n",
      "\n",
      "   usd_per_gb_exceeded  usd_per_message_exceeded  usd_per_minute_exceeded  \\\n",
      "0                   10                      0.03                     0.03   \n",
      "1                    7                      0.01                     0.01   \n",
      "\n",
      "  plan_name plan_type  usd_per_minute_cost  usd_per_gb_cost  usd_per_sms_cost  \n",
      "0      surf     Basic             0.040000         1.614583              0.40  \n",
      "1  ultimate   Premium             0.023333         2.825521              0.07  \n"
     ]
    }
   ],
   "source": [
    "# Agrega factores adicionales a los datos para mayor profundidad en el analisis\n",
    "plans_df['plan_type'] = plans_df['usd_monthly_fee'].apply(lambda x: 'Premium' if x > 20 else 'Basic')\n",
    "plans_df['usd_per_minute_cost'] = plans_df['usd_monthly_fee'] / plans_df['minutes_included']\n",
    "plans_df['usd_per_gb_cost'] = plans_df['usd_monthly_fee'] / (plans_df['mb_included'] / 1240)\n",
    "plans_df['usd_per_sms_cost'] = plans_df['usd_monthly_fee'] / plans_df['messages_included']\n",
    "\n",
    "print('\\nCosto unitario por servicio incluido en cada plan\\n')\n",
    "print(plans_df)"
   ]
  },
  {
   "cell_type": "markdown",
   "metadata": {},
   "source": [
    "1.7  Usuarios/as"
   ]
  },
  {
   "cell_type": "code",
   "execution_count": 60,
   "metadata": {},
   "outputs": [
    {
     "name": "stdout",
     "output_type": "stream",
     "text": [
      "Informacion general del dataset Usuarios\n",
      "\n",
      "<class 'pandas.core.frame.DataFrame'>\n",
      "RangeIndex: 500 entries, 0 to 499\n",
      "Data columns (total 8 columns):\n",
      " #   Column      Non-Null Count  Dtype \n",
      "---  ------      --------------  ----- \n",
      " 0   user_id     500 non-null    int64 \n",
      " 1   first_name  500 non-null    object\n",
      " 2   last_name   500 non-null    object\n",
      " 3   age         500 non-null    int64 \n",
      " 4   city        500 non-null    object\n",
      " 5   reg_date    500 non-null    object\n",
      " 6   plan        500 non-null    object\n",
      " 7   churn_date  34 non-null     object\n",
      "dtypes: int64(2), object(6)\n",
      "memory usage: 31.4+ KB\n",
      "None\n"
     ]
    }
   ],
   "source": [
    "# Imprime la información general/resumida sobre el DataFrame de usuarios\n",
    "print('Informacion general del dataset Usuarios\\n')\n",
    "print(users_df.info())"
   ]
  },
  {
   "cell_type": "code",
   "execution_count": 61,
   "metadata": {},
   "outputs": [
    {
     "name": "stdout",
     "output_type": "stream",
     "text": [
      "Vista general de dataset Usuarios\n",
      "\n",
      "   user_id first_name  last_name  age                                   city  \\\n",
      "0     1000   Anamaria      Bauer   45  Atlanta-Sandy Springs-Roswell, GA MSA   \n",
      "1     1001     Mickey  Wilkerson   28        Seattle-Tacoma-Bellevue, WA MSA   \n",
      "2     1002     Carlee    Hoffman   36   Las Vegas-Henderson-Paradise, NV MSA   \n",
      "3     1003   Reynaldo    Jenkins   52                          Tulsa, OK MSA   \n",
      "4     1004    Leonila   Thompson   40        Seattle-Tacoma-Bellevue, WA MSA   \n",
      "\n",
      "     reg_date      plan churn_date  \n",
      "0  2018-12-24  ultimate        NaN  \n",
      "1  2018-08-13      surf        NaN  \n",
      "2  2018-10-21      surf        NaN  \n",
      "3  2018-01-28      surf        NaN  \n",
      "4  2018-05-23      surf        NaN  \n",
      "\n",
      "Muestra de datos para dataset Usuarios\n",
      "\n",
      "     user_id first_name  last_name  age  \\\n",
      "46      1046      Beata     Hooper   67   \n",
      "427     1427      Zofia      Brock   64   \n",
      "354     1354     Leonel       Dyer   41   \n",
      "41      1041   Drucilla       Lynn   58   \n",
      "316     1316    Lucilla      Weeks   59   \n",
      "40      1040      Paris     Santos   72   \n",
      "77      1077       Chau    Webster   23   \n",
      "4       1004    Leonila   Thompson   40   \n",
      "444     1444     Glinda  Dickerson   70   \n",
      "75      1075     Salena      Bates   35   \n",
      "\n",
      "                                                 city    reg_date      plan  \\\n",
      "46                 Boston-Cambridge-Newton, MA-NH MSA  2018-02-19      surf   \n",
      "427  Washington-Arlington-Alexandria, DC-VA-MD-WV MSA  2018-01-26  ultimate   \n",
      "354         New York-Newark-Jersey City, NY-NJ-PA MSA  2018-08-24  ultimate   \n",
      "41               Las Vegas-Henderson-Paradise, NV MSA  2018-03-17  ultimate   \n",
      "316                                     Tulsa, OK MSA  2018-05-21      surf   \n",
      "40    Philadelphia-Camden-Wilmington, PA-NJ-DE-MD MSA  2018-12-23      surf   \n",
      "77              Charlotte-Concord-Gastonia, NC-SC MSA  2018-01-14  ultimate   \n",
      "4                     Seattle-Tacoma-Bellevue, WA MSA  2018-05-23      surf   \n",
      "444                         New Haven-Milford, CT MSA  2018-06-20      surf   \n",
      "75    Philadelphia-Camden-Wilmington, PA-NJ-DE-MD MSA  2018-08-06      surf   \n",
      "\n",
      "     churn_date  \n",
      "46          NaN  \n",
      "427         NaN  \n",
      "354         NaN  \n",
      "41          NaN  \n",
      "316         NaN  \n",
      "40   2018-12-30  \n",
      "77          NaN  \n",
      "4           NaN  \n",
      "444         NaN  \n",
      "75          NaN  \n"
     ]
    }
   ],
   "source": [
    "# Imprime una muestra de datos para usuarios\n",
    "print('Vista general de dataset Usuarios\\n')\n",
    "print(users_df.head())\n",
    "print('\\nMuestra de datos para dataset Usuarios\\n')\n",
    "print(users_df.sample(10))"
   ]
  },
  {
   "cell_type": "markdown",
   "metadata": {},
   "source": [
    "[Describe lo que ves y observas en la información general y en la muestra de datos impresa para el precio de datos anterior. ¿Hay algún problema (tipos de datos no adecuados, datos ausentes, etc.) que pudieran necesitar investigación y cambios adicionales? ¿Cómo se puede arreglar?]\n",
    "\n",
    "Dentro del dataset se pueden hacer algunas correcciones en los nombres para que sean mas claros, tipo de datos y rellenar los valores nulos. Tambien note que el nombre de la cuidad de residencia del usuario tiene multiples ciudades, entonces podriamos filtrar los datos por la primera cuidad solamente para hacer un analisis mas correcto en el futuro."
   ]
  },
  {
   "cell_type": "markdown",
   "metadata": {},
   "source": [
    "1.7.1  Corregir los datos\n",
    "\n",
    "[Corrige los problemas obvios con los datos basándote en las observaciones iniciales.]"
   ]
  },
  {
   "cell_type": "code",
   "execution_count": 62,
   "metadata": {},
   "outputs": [
    {
     "name": "stdout",
     "output_type": "stream",
     "text": [
      "   user_id first_name  last_name  age                                   city  \\\n",
      "0     1000   Anamaria      Bauer   45  Atlanta-Sandy Springs-Roswell, GA MSA   \n",
      "1     1001     Mickey  Wilkerson   28        Seattle-Tacoma-Bellevue, WA MSA   \n",
      "2     1002     Carlee    Hoffman   36   Las Vegas-Henderson-Paradise, NV MSA   \n",
      "3     1003   Reynaldo    Jenkins   52                          Tulsa, OK MSA   \n",
      "4     1004    Leonila   Thompson   40        Seattle-Tacoma-Bellevue, WA MSA   \n",
      "\n",
      "  registration_date      plan churn_date  \n",
      "0        2018-12-24  ultimate        NaT  \n",
      "1        2018-08-13      surf        NaT  \n",
      "2        2018-10-21      surf        NaT  \n",
      "3        2018-01-28      surf        NaT  \n",
      "4        2018-05-23      surf        NaT  \n",
      "\n",
      "<class 'pandas.core.frame.DataFrame'>\n",
      "RangeIndex: 500 entries, 0 to 499\n",
      "Data columns (total 8 columns):\n",
      " #   Column             Non-Null Count  Dtype         \n",
      "---  ------             --------------  -----         \n",
      " 0   user_id            500 non-null    int64         \n",
      " 1   first_name         500 non-null    object        \n",
      " 2   last_name          500 non-null    object        \n",
      " 3   age                500 non-null    int64         \n",
      " 4   city               500 non-null    object        \n",
      " 5   registration_date  500 non-null    datetime64[ns]\n",
      " 6   plan               500 non-null    object        \n",
      " 7   churn_date         34 non-null     datetime64[ns]\n",
      "dtypes: datetime64[ns](2), int64(2), object(4)\n",
      "memory usage: 31.4+ KB\n",
      "None\n"
     ]
    }
   ],
   "source": [
    "# Modificacion de nombre en columna\n",
    "users_df = users_df.rename(columns={'reg_date': 'registration_date'})\n",
    "\n",
    "# Modificacion de datatype en columnas\n",
    "users_df['registration_date'] = pd.to_datetime(users_df['registration_date'])\n",
    "users_df['churn_date'] = pd.to_datetime(users_df['churn_date'], errors='coerce')\n",
    "\n",
    "# Verify changes on dataset\n",
    "print(users_df.head())\n",
    "print()\n",
    "print(users_df.info())"
   ]
  },
  {
   "cell_type": "markdown",
   "metadata": {},
   "source": [
    "1.7.2  Enriquecer los datos\n",
    "\n",
    "[Agrega factores adicionales a los datos si crees que pudieran ser útiles.]"
   ]
  },
  {
   "cell_type": "code",
   "execution_count": 63,
   "metadata": {},
   "outputs": [
    {
     "name": "stdout",
     "output_type": "stream",
     "text": [
      "Duracion de suscripcion por cliente\n",
      "\n",
      "0     NaN\n",
      "1     NaN\n",
      "2     NaN\n",
      "3     NaN\n",
      "4     NaN\n",
      "       ..\n",
      "495   NaN\n",
      "496   NaN\n",
      "497   NaN\n",
      "498   NaN\n",
      "499   NaN\n",
      "Name: subscription_duration, Length: 500, dtype: float64\n",
      "usuarios_duplicados:  Empty DataFrame\n",
      "Columns: [user_id, first_name, last_name, age, city, registration_date, plan, churn_date, subscription_duration]\n",
      "Index: []\n"
     ]
    }
   ],
   "source": [
    "#Obtener la duracion de suscripcion por cliente\n",
    "users_df['subscription_duration'] = (users_df['churn_date'] - users_df['registration_date']).dt.days\n",
    "print('Duracion de suscripcion por cliente\\n')\n",
    "print(users_df['subscription_duration'])\n",
    "\n",
    "# Verificar datos duplicados\n",
    "duplicates = users_df[users_df.duplicated(subset=['user_id'], keep=False)]\n",
    "print('usuarios_duplicados: ', duplicates)"
   ]
  },
  {
   "cell_type": "markdown",
   "metadata": {},
   "source": [
    "1.8  Llamadas"
   ]
  },
  {
   "cell_type": "code",
   "execution_count": 64,
   "metadata": {},
   "outputs": [
    {
     "name": "stdout",
     "output_type": "stream",
     "text": [
      "<class 'pandas.core.frame.DataFrame'>\n",
      "RangeIndex: 137735 entries, 0 to 137734\n",
      "Data columns (total 4 columns):\n",
      " #   Column     Non-Null Count   Dtype  \n",
      "---  ------     --------------   -----  \n",
      " 0   id         137735 non-null  object \n",
      " 1   user_id    137735 non-null  int64  \n",
      " 2   call_date  137735 non-null  object \n",
      " 3   duration   137735 non-null  float64\n",
      "dtypes: float64(1), int64(1), object(2)\n",
      "memory usage: 4.2+ MB\n",
      "None\n"
     ]
    }
   ],
   "source": [
    "# Imprime la información general/resumida sobre el DataFrame de las llamadas\n",
    "print(calls_df.info())"
   ]
  },
  {
   "cell_type": "code",
   "execution_count": 65,
   "metadata": {},
   "outputs": [
    {
     "name": "stdout",
     "output_type": "stream",
     "text": [
      "              id  user_id   call_date  duration\n",
      "127975  1459_119     1459  2018-12-25      9.45\n",
      "36149   1138_102     1138  2018-09-08      0.00\n",
      "112043  1393_247     1393  2018-11-02      9.02\n",
      "62471   1224_116     1224  2018-08-08     12.13\n",
      "9731    1043_291     1043  2018-07-17     17.76\n",
      "85460   1313_440     1313  2018-12-09      0.53\n",
      "81042   1291_642     1291  2018-12-17      5.12\n",
      "65135   1236_424     1236  2018-09-19     12.72\n",
      "68819   1247_152     1247  2018-09-10      1.29\n",
      "53775   1193_216     1193  2018-12-02      8.64\n"
     ]
    }
   ],
   "source": [
    "# Imprime una muestra de datos para las llamadas\n",
    "print(calls_df.sample(10))"
   ]
  },
  {
   "cell_type": "markdown",
   "metadata": {},
   "source": [
    "[Describe lo que ves y observas en la información general y en la muestra de datos impresa para el precio de datos anterior. ¿Hay algún problema (tipos de datos no adecuados, datos ausentes, etc.) que pudieran necesitar investigación y cambios adicionales? ¿Cómo se puede arreglar?]\n",
    "\n",
    "Creo que en este dataset podriamos hacer algunos cambios en el nobmre de las columnas 'id' and 'duration' para que sean mas homogeneos los nombres, tambien cambiar el datatype de 'call_date' por datetime64,"
   ]
  },
  {
   "cell_type": "markdown",
   "metadata": {},
   "source": [
    "1.8.1  Corregir los datos\n",
    "\n",
    "[Corrige los problemas obvios con los datos basándote en las observaciones iniciales.]"
   ]
  },
  {
   "cell_type": "code",
   "execution_count": 66,
   "metadata": {},
   "outputs": [
    {
     "name": "stdout",
     "output_type": "stream",
     "text": [
      "<class 'pandas.core.frame.DataFrame'>\n",
      "RangeIndex: 137735 entries, 0 to 137734\n",
      "Data columns (total 4 columns):\n",
      " #   Column         Non-Null Count   Dtype         \n",
      "---  ------         --------------   -----         \n",
      " 0   caller_id      137735 non-null  object        \n",
      " 1   user_id        137735 non-null  int64         \n",
      " 2   call_date      137735 non-null  datetime64[ns]\n",
      " 3   call_duration  137735 non-null  float64       \n",
      "dtypes: datetime64[ns](1), float64(1), int64(1), object(1)\n",
      "memory usage: 4.2+ MB\n",
      "None\n"
     ]
    }
   ],
   "source": [
    "# Modify calls_df columns name\n",
    "calls_df = calls_df.rename(columns={'id': 'caller_id', 'duration': 'call_duration'})\n",
    "\n",
    "# Modify datatype for column 'call_date'\n",
    "calls_df['call_date'] = pd.to_datetime(calls_df['call_date'])\n",
    "\n",
    "# Verify changes on dataset\n",
    "print(calls_df.info())"
   ]
  },
  {
   "cell_type": "markdown",
   "metadata": {},
   "source": [
    "1.8.2  Enriquecer los datos\n",
    "\n",
    "[Agrega factores adicionales a los datos si crees que pudieran ser útiles.]"
   ]
  },
  {
   "cell_type": "code",
   "execution_count": 67,
   "metadata": {},
   "outputs": [
    {
     "name": "stdout",
     "output_type": "stream",
     "text": [
      "Llamadas por usuario\n",
      "      user_id  call_date\n",
      "0       1000         16\n",
      "1       1001        261\n",
      "2       1002        113\n",
      "3       1003        149\n",
      "4       1004        370\n",
      "..       ...        ...\n",
      "476     1495        253\n",
      "477     1496        195\n",
      "478     1497         54\n",
      "479     1498        451\n",
      "480     1499        204\n",
      "\n",
      "[481 rows x 2 columns]\n",
      "\n",
      "Duracion maxima de una llamda: 37.6 minutos\n",
      "\n",
      "\n",
      "Lapso de tiempo entre llamadas por usuario\n",
      "\n",
      "        user_id  call_date time_between_calls\n",
      "9          1000 2018-12-26                NaT\n",
      "14         1000 2018-12-26             0 days\n",
      "0          1000 2018-12-27             1 days\n",
      "1          1000 2018-12-27             0 days\n",
      "2          1000 2018-12-27             0 days\n",
      "...         ...        ...                ...\n",
      "137708     1499 2018-12-29             1 days\n",
      "137734     1499 2018-12-29             0 days\n",
      "137638     1499 2018-12-30             1 days\n",
      "137587     1499 2018-12-31             1 days\n",
      "137709     1499 2018-12-31             0 days\n",
      "\n",
      "[137735 rows x 3 columns]\n"
     ]
    }
   ],
   "source": [
    "# Analizar llamadas por usuario\n",
    "calls_per_user = calls_df.groupby('user_id')['call_date'].count().reset_index()\n",
    "print('Llamadas por usuario\\n', calls_per_user)\n",
    "\n",
    "# Cual es el maximo tiempo en duracion de llamadas\n",
    "max_call_duration = calls_df['call_duration'].max()\n",
    "print(f'\\nDuracion maxima de una llamda: {max_call_duration} minutos\\n')\n",
    "\n",
    "# lapso de tiempo entre llamadas\n",
    "# Ordenar por usuario y fecha de llamada\n",
    "calls_df = calls_df.sort_values(by=['user_id', 'call_date'])\n",
    "# calcular tiempo entre llamadas\n",
    "calls_df['time_between_calls'] = calls_df.groupby('user_id')['call_date'].diff()\n",
    "# Imprimir resultado\n",
    "print('\\nLapso de tiempo entre llamadas por usuario\\n')\n",
    "print(calls_df[['user_id', 'call_date', 'time_between_calls']])\n"
   ]
  },
  {
   "cell_type": "markdown",
   "metadata": {},
   "source": [
    "1.9  Mensajes"
   ]
  },
  {
   "cell_type": "code",
   "execution_count": 68,
   "metadata": {},
   "outputs": [
    {
     "name": "stdout",
     "output_type": "stream",
     "text": [
      "<class 'pandas.core.frame.DataFrame'>\n",
      "RangeIndex: 76051 entries, 0 to 76050\n",
      "Data columns (total 3 columns):\n",
      " #   Column        Non-Null Count  Dtype \n",
      "---  ------        --------------  ----- \n",
      " 0   id            76051 non-null  object\n",
      " 1   user_id       76051 non-null  int64 \n",
      " 2   message_date  76051 non-null  object\n",
      "dtypes: int64(1), object(2)\n",
      "memory usage: 1.7+ MB\n",
      "None\n"
     ]
    }
   ],
   "source": [
    "# Imprime la información general/resumida sobre el DataFrame de los mensajes\n",
    "print(messages_df.info())\n"
   ]
  },
  {
   "cell_type": "code",
   "execution_count": 69,
   "metadata": {},
   "outputs": [
    {
     "name": "stdout",
     "output_type": "stream",
     "text": [
      "             id  user_id message_date\n",
      "58252   1369_53     1369   2018-12-02\n",
      "59613   1379_90     1379   2018-12-21\n",
      "16236  1110_127     1110   2018-07-02\n",
      "50844   1331_19     1331   2018-09-25\n",
      "37451   1248_15     1248   2018-12-09\n",
      "26303  1159_306     1159   2018-09-15\n",
      "55699    1351_3     1351   2018-12-30\n",
      "22745  1136_200     1136   2018-10-19\n",
      "11371  1077_642     1077   2018-12-19\n",
      "67545  1438_111     1438   2018-09-23\n"
     ]
    }
   ],
   "source": [
    "# Imprime una muestra de datos para los mensajes\n",
    "print(messages_df.sample(10))\n"
   ]
  },
  {
   "cell_type": "markdown",
   "metadata": {},
   "source": [
    "[Describe lo que ves y observas en la información general y en la muestra de datos impresa para el precio de datos anterior. ¿Hay algún problema (tipos de datos no adecuados, datos ausentes, etc.) que pudieran necesitar investigación y cambios adicionales? ¿Cómo se puede arreglar?] \n",
    "\n",
    "El data set contiene informacion sobre el servicio de SMS, fecha e identificadores de usario y mensajes, hace falta un nombre mas claro para la columna 'id' y tambien se necesita corregir el datatype de 'message_date'"
   ]
  },
  {
   "cell_type": "markdown",
   "metadata": {},
   "source": [
    "1.9.1  Corregir los datos\n",
    "\n",
    "[Corrige los problemas obvios con los datos basándote en las observaciones iniciales.]"
   ]
  },
  {
   "cell_type": "code",
   "execution_count": 70,
   "metadata": {},
   "outputs": [
    {
     "name": "stdout",
     "output_type": "stream",
     "text": [
      "<class 'pandas.core.frame.DataFrame'>\n",
      "RangeIndex: 76051 entries, 0 to 76050\n",
      "Data columns (total 3 columns):\n",
      " #   Column        Non-Null Count  Dtype         \n",
      "---  ------        --------------  -----         \n",
      " 0   message_id    76051 non-null  object        \n",
      " 1   user_id       76051 non-null  int64         \n",
      " 2   message_date  76051 non-null  datetime64[ns]\n",
      "dtypes: datetime64[ns](1), int64(1), object(1)\n",
      "memory usage: 1.7+ MB\n",
      "None\n"
     ]
    }
   ],
   "source": [
    "# Modificar el nombre de la columna 'id'\n",
    "messages_df = messages_df.rename(columns={'id': 'message_id'})\n",
    "\n",
    "# Corregir el datatype de 'message_date'\n",
    "messages_df['message_date'] = pd.to_datetime(messages_df['message_date'])\n",
    "\n",
    "print(messages_df.info())"
   ]
  },
  {
   "cell_type": "markdown",
   "metadata": {},
   "source": [
    "1.9.2  Enriquecer los datos\n",
    "\n",
    "[Agrega factores adicionales a los datos si crees que pudieran ser útiles.]"
   ]
  },
  {
   "cell_type": "code",
   "execution_count": 71,
   "metadata": {},
   "outputs": [
    {
     "name": "stdout",
     "output_type": "stream",
     "text": [
      "   user_id  total_messages  messages_included  extra_messages\n",
      "0     1000              11               1000               0\n",
      "1     1001             207                 50             157\n",
      "2     1002              88                 50              38\n",
      "3     1003              50                 50               0\n",
      "4     1004             177                 50             127\n"
     ]
    }
   ],
   "source": [
    "# Calcula mensajes por usuario\n",
    "messages_per_user = messages_df.groupby('user_id')['message_id'].count().reset_index()\n",
    "messages_per_user = messages_per_user.rename(columns={'message_id': 'total_messages'})\n",
    "\n",
    "# Mostrar los mensajes usados por plan, combina users_df con messages_df\n",
    "# Combinar mensajes por usuario\n",
    "merged_df = messages_per_user.merge(users_df, on = 'user_id', how='left')\n",
    "\n",
    "# Combinar planes\n",
    "merged_df =  merged_df.merge(plans_df, left_on='plan', right_on='plan_name', how = 'left')\n",
    "#print(merged_df)\n",
    "\n",
    "merged_df['extra_messages'] = merged_df['total_messages'] - merged_df['messages_included']\n",
    "merged_df['extra_messages'] = merged_df['extra_messages'].apply(lambda x: max(0,x))\n",
    "\n",
    "# Imprimir resultado\n",
    "print(merged_df[['user_id', 'total_messages', 'messages_included', 'extra_messages']].head())\n"
   ]
  },
  {
   "cell_type": "markdown",
   "metadata": {},
   "source": [
    "1.10  Internet"
   ]
  },
  {
   "cell_type": "code",
   "execution_count": 72,
   "metadata": {},
   "outputs": [
    {
     "name": "stdout",
     "output_type": "stream",
     "text": [
      "<class 'pandas.core.frame.DataFrame'>\n",
      "RangeIndex: 104825 entries, 0 to 104824\n",
      "Data columns (total 4 columns):\n",
      " #   Column        Non-Null Count   Dtype  \n",
      "---  ------        --------------   -----  \n",
      " 0   id            104825 non-null  object \n",
      " 1   user_id       104825 non-null  int64  \n",
      " 2   session_date  104825 non-null  object \n",
      " 3   mb_used       104825 non-null  float64\n",
      "dtypes: float64(1), int64(1), object(2)\n",
      "memory usage: 3.2+ MB\n",
      "None\n"
     ]
    }
   ],
   "source": [
    "# Imprime la información general/resumida sobre el DataFrame de internet\n",
    "print(internet_df.info())\n"
   ]
  },
  {
   "cell_type": "code",
   "execution_count": 73,
   "metadata": {},
   "outputs": [
    {
     "name": "stdout",
     "output_type": "stream",
     "text": [
      "             id  user_id session_date  mb_used\n",
      "79730    1373_9     1373   2018-09-19   480.90\n",
      "13559    1064_7     1064   2018-07-21   277.59\n",
      "31855  1144_611     1144   2018-06-23   487.75\n",
      "13606   1064_54     1064   2018-09-10   539.11\n",
      "17948    1081_3     1081   2018-05-29     0.00\n",
      "23141  1106_445     1106   2018-06-24     6.81\n",
      "71980  1335_220     1335   2018-07-04   615.06\n",
      "13938   1065_34     1065   2018-10-05    20.39\n",
      "22858   1106_36     1106   2018-11-19   251.86\n",
      "75425   1355_35     1355   2018-11-20   624.37\n"
     ]
    }
   ],
   "source": [
    "# Imprime una muestra de datos para el tráfico de internet\n",
    "print(internet_df.sample(10))\n"
   ]
  },
  {
   "cell_type": "markdown",
   "metadata": {},
   "source": [
    "[Describe lo que ves y observas en la información general y en la muestra de datos impresa para el precio de datos anterior. ¿Hay algún problema (tipos de datos no adecuados, datos ausentes, etc.) que pudieran necesitar investigación y cambios adicionales? ¿Cómo se puede arreglar?]\n",
    "\n",
    "Este Dataset tiene 4 columnas que continen la informacion del uso del servicio de internet, se necesitan hacer cambios en el nombre del ID de sesion por un nombre mas descriptivo y hacer el cambio de datatype en la columna 'session_date\" a tipo de datos de fechas, tiene algunos datos en 0 para la columna de 'mb_used', el cual seria bueno investigar cuantos usarios no usan megas, no contiene datos nulos asi que no es necesario hacer ningun otro ajuste a la tabla."
   ]
  },
  {
   "cell_type": "markdown",
   "metadata": {},
   "source": [
    "1.10.1  Corregir los datos\n",
    "\n",
    "[Corrige los problemas obvios con los datos basándote en las observaciones iniciales.]"
   ]
  },
  {
   "cell_type": "code",
   "execution_count": 74,
   "metadata": {},
   "outputs": [
    {
     "name": "stdout",
     "output_type": "stream",
     "text": [
      "<class 'pandas.core.frame.DataFrame'>\n",
      "RangeIndex: 104825 entries, 0 to 104824\n",
      "Data columns (total 4 columns):\n",
      " #   Column        Non-Null Count   Dtype         \n",
      "---  ------        --------------   -----         \n",
      " 0   session_id    104825 non-null  object        \n",
      " 1   user_id       104825 non-null  int64         \n",
      " 2   session_date  104825 non-null  datetime64[ns]\n",
      " 3   mb_used       104825 non-null  float64       \n",
      "dtypes: datetime64[ns](1), float64(1), int64(1), object(1)\n",
      "memory usage: 3.2+ MB\n",
      "None\n",
      "\n",
      "      session_id  user_id session_date  mb_used\n",
      "56297   1254_299     1254   2018-08-14     0.00\n",
      "32713   1147_347     1147   2018-08-14    92.95\n",
      "74498    1350_72     1350   2018-12-16   156.23\n",
      "64388   1295_360     1295   2018-10-03   147.35\n",
      "18183   1081_251     1081   2018-08-03   304.67\n",
      "19742    1089_22     1089   2018-12-29     0.00\n",
      "31442   1144_157     1144   2018-07-20   588.99\n",
      "33366   1151_108     1151   2018-11-17   318.82\n",
      "71189   1332_162     1332   2018-12-07   290.24\n",
      "58094   1261_571     1261   2018-10-27   599.36\n"
     ]
    }
   ],
   "source": [
    "# Modifica el datatype de 'session_date'\n",
    "internet_df['session_date'] = pd.to_datetime(internet_df['session_date'])\n",
    "\n",
    "# Modifica el nombre de la columna 'id' se sesion\n",
    "internet_df = internet_df.rename(columns={'id': 'session_id'})\n",
    "\n",
    "# Imprime los datos generales con los cambios\n",
    "print(internet_df.info())\n",
    "print()\n",
    "print(internet_df.sample(10))"
   ]
  },
  {
   "cell_type": "markdown",
   "metadata": {},
   "source": [
    "1.10.2  Enriquecer los datos\n",
    "\n",
    "[Agrega factores adicionales a los datos si crees que pudieran ser útiles.]"
   ]
  },
  {
   "cell_type": "code",
   "execution_count": 75,
   "metadata": {},
   "outputs": [
    {
     "name": "stdout",
     "output_type": "stream",
     "text": [
      "Index(['session_id', 'user_id', 'session_date', 'mb_used', 'first_name',\n",
      "       'last_name', 'age', 'city', 'registration_date', 'plan', 'churn_date',\n",
      "       'subscription_duration', 'messages_included', 'mb_included',\n",
      "       'minutes_included', 'usd_monthly_fee', 'usd_per_gb_exceeded',\n",
      "       'usd_per_message_exceeded', 'usd_per_minute_exceeded', 'plan_name',\n",
      "       'plan_type', 'usd_per_minute_cost', 'usd_per_gb_cost',\n",
      "       'usd_per_sms_cost', 'total_mb_used'],\n",
      "      dtype='object')\n",
      "\n",
      "        total_mb_used plan_type plan_name  bought_extra_mb  extra_mb_used\n",
      "0             1901.47   Premium  ultimate            False           0.00\n",
      "1             1901.47   Premium  ultimate            False           0.00\n",
      "2             1901.47   Premium  ultimate            False           0.00\n",
      "3             1901.47   Premium  ultimate            False           0.00\n",
      "4             1901.47   Premium  ultimate            False           0.00\n",
      "...               ...       ...       ...              ...            ...\n",
      "104820       71350.23     Basic      surf             True       55990.23\n",
      "104821       71350.23     Basic      surf             True       55990.23\n",
      "104822       71350.23     Basic      surf             True       55990.23\n",
      "104823       71350.23     Basic      surf             True       55990.23\n",
      "104824       71350.23     Basic      surf             True       55990.23\n",
      "\n",
      "[104825 rows x 5 columns]\n",
      "\n",
      "Megabites usados segun la edad de los usuarios\n",
      "\n",
      "  age_group  average_mb_used\n",
      "0      0-18    111168.166829\n",
      "1     19-25    114590.302606\n",
      "2     26-35    117921.339511\n",
      "3     36-45    124236.061578\n",
      "4     46-55    124202.513419\n",
      "5     56-65    137900.525449\n",
      "6       65+    110620.975843\n",
      "\n",
      "Numero de usuarios que no han usado datos: 0\n",
      "\n",
      "Numero de sessiones con 0 MB usados: 13747\n"
     ]
    },
    {
     "name": "stderr",
     "output_type": "stream",
     "text": [
      "C:\\Users\\jovan\\AppData\\Local\\Temp\\ipykernel_12684\\3373741274.py:30: FutureWarning: The default of observed=False is deprecated and will be changed to True in a future version of pandas. Pass observed=False to retain current behavior or observed=True to adopt the future default and silence this warning.\n",
      "  mb_usage_by_age = internet_merge_df.groupby('age_group')['total_mb_used'].mean().reset_index()\n"
     ]
    }
   ],
   "source": [
    "# Combinar internet_df con users_df\n",
    "internet_merge_df = internet_df.merge(users_df, on='user_id', how='left')\n",
    "\n",
    "# Combinar internet_merge_df con plans_df\n",
    "internet_merge_df = internet_merge_df.merge(plans_df, left_on='plan', right_on='plan_name', how='left')\n",
    "\n",
    "# Muestra Megabites usados por usario basado en el plan\n",
    "total_mb_per_user = internet_merge_df.groupby('user_id')['mb_used'].sum().reset_index()\n",
    "total_mb_per_user = total_mb_per_user.rename(columns={'mb_used': 'total_mb_used'})\n",
    "\n",
    "internet_merge_df = internet_merge_df.merge(total_mb_per_user, on='user_id', how='left') \n",
    "print(internet_merge_df.columns)\n",
    "\n",
    "# Muestra usarios que compran Megabites extras\n",
    "internet_merge_df['extra_mb_used'] = internet_merge_df['total_mb_used'] - internet_merge_df['mb_included']\n",
    "internet_merge_df['extra_mb_used'] = internet_merge_df['extra_mb_used'].apply(lambda x: max(0,x))\n",
    "\n",
    "# Crear columna para extra megas comprados\n",
    "internet_merge_df['bought_extra_mb'] = internet_merge_df['extra_mb_used'] > 0\n",
    "print()\n",
    "print(internet_merge_df[['total_mb_used', 'plan_type', 'plan_name', 'bought_extra_mb', 'extra_mb_used']])\n",
    "\n",
    "# Megabites usados segun la edad del usuario\n",
    "internet_merge_df['age_group'] = pd.cut(\n",
    "    internet_merge_df['age'],\n",
    "    bins=[10,18,25,35,45,55,65,100],\n",
    "    labels=['0-18', '19-25', '26-35', '36-45', '46-55', '56-65', '65+']\n",
    "    )\n",
    "# Calculo de el uso promedio de datos por edad\n",
    "mb_usage_by_age = internet_merge_df.groupby('age_group')['total_mb_used'].mean().reset_index()\n",
    "mb_usage_by_age = mb_usage_by_age.rename(columns={'total_mb_used': 'average_mb_used'})\n",
    "\n",
    "print('\\nMegabites usados segun la edad de los usuarios\\n')\n",
    "print(mb_usage_by_age.head(7))\n",
    "\n",
    "# Usuarios que no usan Megabites en ninguna sesion\n",
    "users_with_zero_mb = internet_merge_df[internet_merge_df['total_mb_used'] == 0.0]['user_id'].nunique()\n",
    "print(f'\\nNumero de usuarios que no han usado datos: {users_with_zero_mb}')\n",
    "\n",
    "# Usuarios que tienen sesiones individuales sin uso de datos\n",
    "zero_mb_sessions = internet_df[internet_df['mb_used']==0].shape[0]\n",
    "print(f'\\nNumero de sessiones con 0 MB usados: {zero_mb_sessions}')\n"
   ]
  },
  {
   "cell_type": "markdown",
   "metadata": {},
   "source": [
    "1.11  Estudiar las condiciones de las tarifas\n",
    "\n",
    "[Es sumamente importante entender cómo funcionan las tarifas, cómo se les cobra a los usuarios en función de su plan de suscripción. Así que te sugerimos imprimir la información de la tarifa para ver una vez más sus condiciones.]"
   ]
  },
  {
   "cell_type": "code",
   "execution_count": 76,
   "metadata": {},
   "outputs": [
    {
     "name": "stdout",
     "output_type": "stream",
     "text": [
      "   messages_included  mb_included  minutes_included  usd_monthly_fee  \\\n",
      "0                 50        15360               500               20   \n",
      "1               1000        30720              3000               70   \n",
      "\n",
      "   usd_per_gb_exceeded  usd_per_message_exceeded  usd_per_minute_exceeded  \\\n",
      "0                   10                      0.03                     0.03   \n",
      "1                    7                      0.01                     0.01   \n",
      "\n",
      "  plan_name plan_type  usd_per_minute_cost  usd_per_gb_cost  usd_per_sms_cost  \n",
      "0      surf     Basic             0.040000         1.614583              0.40  \n",
      "1  ultimate   Premium             0.023333         2.825521              0.07  \n"
     ]
    }
   ],
   "source": [
    "# Imprime las condiciones de la tarifa y asegúrate de que te quedan claras\n",
    "print(plans_df.head())\n",
    "      "
   ]
  },
  {
   "cell_type": "markdown",
   "metadata": {},
   "source": [
    "1.12  Agregar datos por usuario\n",
    "\n",
    "[Ahora que los datos están limpios, agrega los datos por usuario y por periodo para que solo haya un registro por usuario y por periodo. Esto facilitará mucho el análisis posterior.]"
   ]
  },
  {
   "cell_type": "code",
   "execution_count": 77,
   "metadata": {},
   "outputs": [
    {
     "name": "stdout",
     "output_type": "stream",
     "text": [
      "Llamadas por usario\n",
      "\n",
      "     user_id  call_date\n",
      "0       1000         16\n",
      "1       1001        261\n",
      "2       1002        113\n",
      "3       1003        149\n",
      "4       1004        370\n",
      "..       ...        ...\n",
      "476     1495        253\n",
      "477     1496        195\n",
      "478     1497         54\n",
      "479     1498        451\n",
      "480     1499        204\n",
      "\n",
      "[481 rows x 2 columns]\n"
     ]
    }
   ],
   "source": [
    "# Calcula el número de llamadas hechas por cada usuario al mes. Guarda el resultado.\n",
    "#calls_per_user = calls_df.groupby('user_id')['call_date'].count().reset_index()\n",
    "print('Llamadas por usario\\n')\n",
    "print(calls_per_user) # Variable para este calculo fue hecho en la seccion 'Enriquecer datos' de la seccion Calls"
   ]
  },
  {
   "cell_type": "code",
   "execution_count": 78,
   "metadata": {},
   "outputs": [
    {
     "name": "stdout",
     "output_type": "stream",
     "text": [
      "     user_id  call_duration\n",
      "0       1000             16\n",
      "1       1001            261\n",
      "2       1002            113\n",
      "3       1003            149\n",
      "4       1004            370\n",
      "..       ...            ...\n",
      "476     1495            253\n",
      "477     1496            195\n",
      "478     1497             54\n",
      "479     1498            451\n",
      "480     1499            204\n",
      "\n",
      "[481 rows x 2 columns]\n"
     ]
    }
   ],
   "source": [
    "# Calcula la cantidad de minutos usados por cada usuario al mes. Guarda el resultado.\n",
    "minutes_call_per_user = calls_df.groupby('user_id')['call_duration'].count().reset_index()\n",
    "print(minutes_call_per_user)"
   ]
  },
  {
   "cell_type": "code",
   "execution_count": 79,
   "metadata": {},
   "outputs": [
    {
     "name": "stdout",
     "output_type": "stream",
     "text": [
      "     user_id  total_messages\n",
      "0       1000              11\n",
      "1       1001             207\n",
      "2       1002              88\n",
      "3       1003              50\n",
      "4       1004             177\n",
      "..       ...             ...\n",
      "397     1491             409\n",
      "398     1492             108\n",
      "399     1494             174\n",
      "400     1496              65\n",
      "401     1497              50\n",
      "\n",
      "[402 rows x 2 columns]\n"
     ]
    }
   ],
   "source": [
    "# Calcula el número de mensajes enviados por cada usuario al mes. Guarda el resultado.\n",
    "#messages_per_user = messages_df.groupby('user_id')['message_id'].count().reset_index()\n",
    "print(messages_per_user) # Variable para este calculo fue hecho en la seccion 'Enriquecer datos' de la seccion Messages"
   ]
  },
  {
   "cell_type": "code",
   "execution_count": 80,
   "metadata": {},
   "outputs": [
    {
     "name": "stdout",
     "output_type": "stream",
     "text": [
      "     user_id  mb_used\n",
      "0       1000        5\n",
      "1       1001      245\n",
      "2       1002      124\n",
      "3       1003       52\n",
      "4       1004      460\n",
      "..       ...      ...\n",
      "484     1495      290\n",
      "485     1496      225\n",
      "486     1497       31\n",
      "487     1498      657\n",
      "488     1499      220\n",
      "\n",
      "[489 rows x 2 columns]\n"
     ]
    }
   ],
   "source": [
    "# Calcula el volumen del tráfico de Internet usado por cada usuario al mes. Guarda el resultado.\n",
    "mb_per_user = internet_df.groupby('user_id')['mb_used'].count().reset_index()\n",
    "print(mb_per_user)"
   ]
  },
  {
   "cell_type": "markdown",
   "metadata": {},
   "source": []
  }
 ],
 "metadata": {
  "kernelspec": {
   "display_name": "Python 3",
   "language": "python",
   "name": "python3"
  },
  "language_info": {
   "codemirror_mode": {
    "name": "ipython",
    "version": 3
   },
   "file_extension": ".py",
   "mimetype": "text/x-python",
   "name": "python",
   "nbconvert_exporter": "python",
   "pygments_lexer": "ipython3",
   "version": "3.12.0"
  }
 },
 "nbformat": 4,
 "nbformat_minor": 2
}

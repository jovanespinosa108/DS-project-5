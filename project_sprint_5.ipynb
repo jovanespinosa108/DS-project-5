{
 "cells": [
  {
   "cell_type": "markdown",
   "metadata": {},
   "source": [
    "1  ¿Cuál es la mejor tarifa?\n",
    "\n",
    "Trabajas como analista para el operador de telecomunicaciones Megaline. La empresa ofrece a sus clientes dos tarifas de prepago, Surf y Ultimate. El departamento comercial quiere saber cuál de las tarifas genera más ingresos para poder ajustar el presupuesto de publicidad.\n",
    "\n",
    "Vas a realizar un análisis preliminar de las tarifas basado en una selección de clientes relativamente pequeña. Tendrás los datos de 500 clientes de Megaline: quiénes son los clientes, de dónde son, qué tarifa usan, así como la cantidad de llamadas que hicieron y los mensajes de texto que enviaron en 2018. Tu trabajo es analizar el comportamiento de los clientes y determinar qué tarifa de prepago genera más ingresos."
   ]
  },
  {
   "cell_type": "markdown",
   "metadata": {},
   "source": [
    "[Te proporcionamos algunos comentarios para orientarte mientras completas este proyecto. Pero debes asegurarte de eliminar todos los comentarios entre corchetes antes de entregar tu proyecto.]\n",
    "\n",
    "[Antes de sumergirte en el análisis de datos, explica por tu propia cuenta el propósito del proyecto y las acciones que planeas realizar.]\n",
    "\n",
    "[Ten en cuenta que estudiar, modificar y analizar datos es un proceso iterativo. Es normal volver a los pasos anteriores y corregirlos/ampliarlos para permitir nuevos pasos.]"
   ]
  },
  {
   "cell_type": "markdown",
   "metadata": {},
   "source": [
    "1.1  Inicialización"
   ]
  },
  {
   "cell_type": "code",
   "execution_count": 1,
   "metadata": {},
   "outputs": [],
   "source": [
    "# Cargar todas las librerías\n",
    "import pandas as pd\n",
    "import numpy as np\n",
    "from scipy import stats as st\n",
    "import math as mt\n",
    "from math import factorial\n"
   ]
  },
  {
   "cell_type": "markdown",
   "metadata": {},
   "source": [
    "1.2  Cargar datos"
   ]
  },
  {
   "cell_type": "code",
   "execution_count": 2,
   "metadata": {},
   "outputs": [],
   "source": [
    "# Carga los archivos de datos en diferentes DataFrames\n",
    "calls_df = pd.read_csv('megaline_calls.csv')\n",
    "internet_df = pd.read_csv('megaline_internet.csv')\n",
    "messages_df = pd.read_csv('megaline_messages.csv')\n",
    "plans_df = pd.read_csv('megaline_plans.csv')\n",
    "users_df = pd.read_csv('megaline_users.csv')\n"
   ]
  },
  {
   "cell_type": "markdown",
   "metadata": {},
   "source": [
    "1.3  Preparar los datos\n",
    "\n",
    "[Los datos para este proyecto se dividen en varias tablas. Explora cada una para tener una comprensión inicial de los datos. Si es necesario, haz las correcciones requeridas en cada tabla.]\n",
    "\n",
    "1.4  Tarifas"
   ]
  },
  {
   "cell_type": "code",
   "execution_count": 3,
   "metadata": {},
   "outputs": [
    {
     "name": "stdout",
     "output_type": "stream",
     "text": [
      "<class 'pandas.core.frame.DataFrame'>\n",
      "RangeIndex: 2 entries, 0 to 1\n",
      "Data columns (total 8 columns):\n",
      " #   Column                 Non-Null Count  Dtype  \n",
      "---  ------                 --------------  -----  \n",
      " 0   messages_included      2 non-null      int64  \n",
      " 1   mb_per_month_included  2 non-null      int64  \n",
      " 2   minutes_included       2 non-null      int64  \n",
      " 3   usd_monthly_pay        2 non-null      int64  \n",
      " 4   usd_per_gb             2 non-null      int64  \n",
      " 5   usd_per_message        2 non-null      float64\n",
      " 6   usd_per_minute         2 non-null      float64\n",
      " 7   plan_name              2 non-null      object \n",
      "dtypes: float64(2), int64(5), object(1)\n",
      "memory usage: 260.0+ bytes\n",
      "None\n"
     ]
    }
   ],
   "source": [
    "# Imprime la información general/resumida sobre el DataFrame de las tarifas\n",
    "print(plans_df.info())\n"
   ]
  },
  {
   "cell_type": "code",
   "execution_count": 4,
   "metadata": {},
   "outputs": [
    {
     "name": "stdout",
     "output_type": "stream",
     "text": [
      "Muestra de los datos para las tarifas\n",
      "\n",
      "   messages_included  mb_per_month_included  minutes_included  \\\n",
      "0                 50                  15360               500   \n",
      "1               1000                  30720              3000   \n",
      "\n",
      "   usd_monthly_pay  usd_per_gb  usd_per_message  usd_per_minute plan_name  \n",
      "0               20          10             0.03            0.03      surf  \n",
      "1               70           7             0.01            0.01  ultimate  \n"
     ]
    }
   ],
   "source": [
    "# Imprime una muestra de los datos para las tarifas\n",
    "print('Muestra de los datos para las tarifas\\n')\n",
    "print(plans_df.head())"
   ]
  },
  {
   "cell_type": "markdown",
   "metadata": {},
   "source": [
    "[Describe lo que ves y observas en la información general y en la muestra de datos impresa para el precio de datos anterior. ¿Hay algún problema (tipos de datos no adecuados, datos ausentes, etc.) que pudieran necesitar investigación y cambios adicionales? ¿Cómo se puede arreglar?]\n",
    "\n",
    "El Dataset contiene 8 columnas, al parecer todas tiene los tipos correctos de datos y los nombres son claros a excepcion de usd_monthly_pay, creo que seria mejor usd_montly_fee, ninguna columna tiene datos ausentes. solo es actualizar el nombre de 1 columna."
   ]
  },
  {
   "cell_type": "markdown",
   "metadata": {},
   "source": [
    "1.5  Corregir datos\n",
    "\n",
    "[Corrige los problemas obvios con los datos basándote en las observaciones iniciales.]"
   ]
  },
  {
   "cell_type": "code",
   "execution_count": 5,
   "metadata": {},
   "outputs": [
    {
     "name": "stdout",
     "output_type": "stream",
     "text": [
      "Index(['messages_included', 'mb_included', 'minutes_included',\n",
      "       'usd_monthly_fee', 'usd_per_gb_exceeded', 'usd_per_message_exceeded',\n",
      "       'usd_per_minute_exceeded', 'plan_name'],\n",
      "      dtype='object')\n"
     ]
    }
   ],
   "source": [
    "# Cambio de nombre en columna para mejor claridad y descripcion\n",
    "plans_df = plans_df.rename(columns = {'mb_per_month_included': 'mb_included',\n",
    "                                      'usd_monthly_pay': 'usd_monthly_fee',\n",
    "                                      'usd_per_gb': 'usd_per_gb_exceeded',\n",
    "                                      'usd_per_message': 'usd_per_message_exceeded',\n",
    "                                      'usd_per_minute': 'usd_per_minute_exceeded'}\n",
    "                          )\n",
    "print(plans_df.columns)"
   ]
  },
  {
   "cell_type": "markdown",
   "metadata": {},
   "source": [
    "1.6  Enriquecer los datos\n",
    "\n",
    "[Agrega factores adicionales a los datos si crees que pudieran ser útiles.]"
   ]
  },
  {
   "cell_type": "code",
   "execution_count": 6,
   "metadata": {},
   "outputs": [
    {
     "name": "stdout",
     "output_type": "stream",
     "text": [
      "\n",
      "Costo unitario por servicio incluido en cada plan\n",
      "\n",
      "   messages_included  mb_included  minutes_included  usd_monthly_fee  \\\n",
      "0                 50        15360               500               20   \n",
      "1               1000        30720              3000               70   \n",
      "\n",
      "   usd_per_gb_exceeded  usd_per_message_exceeded  usd_per_minute_exceeded  \\\n",
      "0                   10                      0.03                     0.03   \n",
      "1                    7                      0.01                     0.01   \n",
      "\n",
      "  plan_name plan_type  usd_per_minute_cost  usd_per_gb_cost  usd_per_sms_cost  \n",
      "0      surf     Basic             0.040000         1.614583              0.40  \n",
      "1  ultimate   Premium             0.023333         2.825521              0.07  \n"
     ]
    }
   ],
   "source": [
    "# Agrega factores adicionales a los datos para mayor profundidad en el analisis\n",
    "plans_df['plan_type'] = plans_df['usd_monthly_fee'].apply(lambda x: 'Premium' if x > 20 else 'Basic')\n",
    "plans_df['usd_per_minute_cost'] = plans_df['usd_monthly_fee'] / plans_df['minutes_included']\n",
    "plans_df['usd_per_gb_cost'] = plans_df['usd_monthly_fee'] / (plans_df['mb_included'] / 1240)\n",
    "plans_df['usd_per_sms_cost'] = plans_df['usd_monthly_fee'] / plans_df['messages_included']\n",
    "\n",
    "print('\\nCosto unitario por servicio incluido en cada plan\\n')\n",
    "print(plans_df)"
   ]
  },
  {
   "cell_type": "markdown",
   "metadata": {},
   "source": [
    "1.7  Usuarios/as"
   ]
  },
  {
   "cell_type": "code",
   "execution_count": 7,
   "metadata": {},
   "outputs": [
    {
     "name": "stdout",
     "output_type": "stream",
     "text": [
      "Informacion general del dataset Usuarios\n",
      "\n",
      "<class 'pandas.core.frame.DataFrame'>\n",
      "RangeIndex: 500 entries, 0 to 499\n",
      "Data columns (total 8 columns):\n",
      " #   Column      Non-Null Count  Dtype \n",
      "---  ------      --------------  ----- \n",
      " 0   user_id     500 non-null    int64 \n",
      " 1   first_name  500 non-null    object\n",
      " 2   last_name   500 non-null    object\n",
      " 3   age         500 non-null    int64 \n",
      " 4   city        500 non-null    object\n",
      " 5   reg_date    500 non-null    object\n",
      " 6   plan        500 non-null    object\n",
      " 7   churn_date  34 non-null     object\n",
      "dtypes: int64(2), object(6)\n",
      "memory usage: 31.4+ KB\n",
      "None\n"
     ]
    }
   ],
   "source": [
    "# Imprime la información general/resumida sobre el DataFrame de usuarios\n",
    "print('Informacion general del dataset Usuarios\\n')\n",
    "print(users_df.info())"
   ]
  },
  {
   "cell_type": "code",
   "execution_count": 8,
   "metadata": {},
   "outputs": [
    {
     "name": "stdout",
     "output_type": "stream",
     "text": [
      "Vista general de dataset Usuarios\n",
      "\n",
      "   user_id first_name  last_name  age                                   city  \\\n",
      "0     1000   Anamaria      Bauer   45  Atlanta-Sandy Springs-Roswell, GA MSA   \n",
      "1     1001     Mickey  Wilkerson   28        Seattle-Tacoma-Bellevue, WA MSA   \n",
      "2     1002     Carlee    Hoffman   36   Las Vegas-Henderson-Paradise, NV MSA   \n",
      "3     1003   Reynaldo    Jenkins   52                          Tulsa, OK MSA   \n",
      "4     1004    Leonila   Thompson   40        Seattle-Tacoma-Bellevue, WA MSA   \n",
      "\n",
      "     reg_date      plan churn_date  \n",
      "0  2018-12-24  ultimate        NaN  \n",
      "1  2018-08-13      surf        NaN  \n",
      "2  2018-10-21      surf        NaN  \n",
      "3  2018-01-28      surf        NaN  \n",
      "4  2018-05-23      surf        NaN  \n",
      "\n",
      "Muestra de datos para dataset Usuarios\n",
      "\n",
      "     user_id  first_name last_name  age  \\\n",
      "431     1431    Napoleon      Burt   74   \n",
      "78      1078     Earnest      Gray   47   \n",
      "61      1061      Maryam  Valencia   38   \n",
      "388     1388         Thu      Noel   75   \n",
      "385     1385      Nohemi  Erickson   52   \n",
      "189     1189    Terrence     Smith   75   \n",
      "422     1422  Georgianne      Huff   41   \n",
      "91      1091      Taylor    Oliver   38   \n",
      "97      1097     Deandre    Powell   27   \n",
      "166     1166      Kaycee    Bryant   26   \n",
      "\n",
      "                                                 city    reg_date      plan  \\\n",
      "431               Sacramento–Roseville–Folsom, CA MSA  2018-01-28      surf   \n",
      "78                    Seattle-Tacoma-Bellevue, WA MSA  2018-02-11      surf   \n",
      "61                                   Columbia, SC MSA  2018-03-08  ultimate   \n",
      "388         New York-Newark-Jersey City, NY-NJ-PA MSA  2018-03-28  ultimate   \n",
      "385         New York-Newark-Jersey City, NY-NJ-PA MSA  2018-01-19      surf   \n",
      "189                                  Columbus, OH MSA  2018-09-24      surf   \n",
      "422            Los Angeles-Long Beach-Anaheim, CA MSA  2018-04-03  ultimate   \n",
      "91           Riverside-San Bernardino-Ontario, CA MSA  2018-05-04  ultimate   \n",
      "97   Washington-Arlington-Alexandria, DC-VA-MD-WV MSA  2018-02-26      surf   \n",
      "166                 Baltimore-Columbia-Towson, MD MSA  2018-05-07      surf   \n",
      "\n",
      "    churn_date  \n",
      "431        NaN  \n",
      "78         NaN  \n",
      "61         NaN  \n",
      "388        NaN  \n",
      "385        NaN  \n",
      "189        NaN  \n",
      "422        NaN  \n",
      "91         NaN  \n",
      "97         NaN  \n",
      "166        NaN  \n"
     ]
    }
   ],
   "source": [
    "# Imprime una muestra de datos para usuarios\n",
    "print('Vista general de dataset Usuarios\\n')\n",
    "print(users_df.head())\n",
    "print('\\nMuestra de datos para dataset Usuarios\\n')\n",
    "print(users_df.sample(10))"
   ]
  },
  {
   "cell_type": "markdown",
   "metadata": {},
   "source": [
    "[Describe lo que ves y observas en la información general y en la muestra de datos impresa para el precio de datos anterior. ¿Hay algún problema (tipos de datos no adecuados, datos ausentes, etc.) que pudieran necesitar investigación y cambios adicionales? ¿Cómo se puede arreglar?]\n",
    "\n",
    "Dentro del dataset se pueden hacer algunas correcciones en los nombres para que sean mas claros, tipo de datos y rellenar los valores nulos. Tambien note que el nombre de la cuidad de residencia del usuario tiene multiples ciudades, entonces podriamos filtrar los datos por la primera cuidad solamente para hacer un analisis mas correcto en el futuro."
   ]
  },
  {
   "cell_type": "markdown",
   "metadata": {},
   "source": [
    "1.7.1  Corregir los datos\n",
    "\n",
    "[Corrige los problemas obvios con los datos basándote en las observaciones iniciales.]"
   ]
  },
  {
   "cell_type": "code",
   "execution_count": 9,
   "metadata": {},
   "outputs": [
    {
     "name": "stdout",
     "output_type": "stream",
     "text": [
      "   user_id first_name  last_name  age                                   city  \\\n",
      "0     1000   Anamaria      Bauer   45  Atlanta-Sandy Springs-Roswell, GA MSA   \n",
      "1     1001     Mickey  Wilkerson   28        Seattle-Tacoma-Bellevue, WA MSA   \n",
      "2     1002     Carlee    Hoffman   36   Las Vegas-Henderson-Paradise, NV MSA   \n",
      "3     1003   Reynaldo    Jenkins   52                          Tulsa, OK MSA   \n",
      "4     1004    Leonila   Thompson   40        Seattle-Tacoma-Bellevue, WA MSA   \n",
      "\n",
      "  registration_date      plan churn_date  \n",
      "0        2018-12-24  ultimate        NaT  \n",
      "1        2018-08-13      surf        NaT  \n",
      "2        2018-10-21      surf        NaT  \n",
      "3        2018-01-28      surf        NaT  \n",
      "4        2018-05-23      surf        NaT  \n",
      "\n",
      "<class 'pandas.core.frame.DataFrame'>\n",
      "RangeIndex: 500 entries, 0 to 499\n",
      "Data columns (total 8 columns):\n",
      " #   Column             Non-Null Count  Dtype         \n",
      "---  ------             --------------  -----         \n",
      " 0   user_id            500 non-null    int64         \n",
      " 1   first_name         500 non-null    object        \n",
      " 2   last_name          500 non-null    object        \n",
      " 3   age                500 non-null    int64         \n",
      " 4   city               500 non-null    object        \n",
      " 5   registration_date  500 non-null    datetime64[ns]\n",
      " 6   plan               500 non-null    object        \n",
      " 7   churn_date         34 non-null     datetime64[ns]\n",
      "dtypes: datetime64[ns](2), int64(2), object(4)\n",
      "memory usage: 31.4+ KB\n",
      "None\n"
     ]
    }
   ],
   "source": [
    "# Modificacion de nombre en columna\n",
    "users_df = users_df.rename(columns={'reg_date': 'registration_date'})\n",
    "\n",
    "# Modificacion de datatype en columnas\n",
    "users_df['registration_date'] = pd.to_datetime(users_df['registration_date'])\n",
    "users_df['churn_date'] = pd.to_datetime(users_df['churn_date'], errors='coerce')\n",
    "\n",
    "# Verify changes on dataset\n",
    "print(users_df.head())\n",
    "print()\n",
    "print(users_df.info())"
   ]
  },
  {
   "cell_type": "markdown",
   "metadata": {},
   "source": [
    "1.7.2  Enriquecer los datos\n",
    "\n",
    "[Agrega factores adicionales a los datos si crees que pudieran ser útiles.]"
   ]
  },
  {
   "cell_type": "code",
   "execution_count": 10,
   "metadata": {},
   "outputs": [
    {
     "name": "stdout",
     "output_type": "stream",
     "text": [
      "Duracion de suscripcion por cliente\n",
      "\n",
      "0     NaN\n",
      "1     NaN\n",
      "2     NaN\n",
      "3     NaN\n",
      "4     NaN\n",
      "       ..\n",
      "495   NaN\n",
      "496   NaN\n",
      "497   NaN\n",
      "498   NaN\n",
      "499   NaN\n",
      "Name: subscription_duration, Length: 500, dtype: float64\n",
      "usuarios_duplicados:  Empty DataFrame\n",
      "Columns: [user_id, first_name, last_name, age, city, registration_date, plan, churn_date, subscription_duration]\n",
      "Index: []\n"
     ]
    }
   ],
   "source": [
    "#Obtener la duracion de suscripcion por cliente\n",
    "users_df['subscription_duration'] = (users_df['churn_date'] - users_df['registration_date']).dt.days\n",
    "print('Duracion de suscripcion por cliente\\n')\n",
    "print(users_df['subscription_duration'])\n",
    "\n",
    "# Verificar datos duplicados\n",
    "duplicates = users_df[users_df.duplicated(subset=['user_id'], keep=False)]\n",
    "print('usuarios_duplicados: ', duplicates)"
   ]
  },
  {
   "cell_type": "markdown",
   "metadata": {},
   "source": [
    "1.8  Llamadas"
   ]
  },
  {
   "cell_type": "code",
   "execution_count": 11,
   "metadata": {},
   "outputs": [
    {
     "name": "stdout",
     "output_type": "stream",
     "text": [
      "<class 'pandas.core.frame.DataFrame'>\n",
      "RangeIndex: 137735 entries, 0 to 137734\n",
      "Data columns (total 4 columns):\n",
      " #   Column     Non-Null Count   Dtype  \n",
      "---  ------     --------------   -----  \n",
      " 0   id         137735 non-null  object \n",
      " 1   user_id    137735 non-null  int64  \n",
      " 2   call_date  137735 non-null  object \n",
      " 3   duration   137735 non-null  float64\n",
      "dtypes: float64(1), int64(1), object(2)\n",
      "memory usage: 4.2+ MB\n",
      "None\n"
     ]
    }
   ],
   "source": [
    "# Imprime la información general/resumida sobre el DataFrame de las llamadas\n",
    "print(calls_df.info())"
   ]
  },
  {
   "cell_type": "code",
   "execution_count": 12,
   "metadata": {},
   "outputs": [
    {
     "name": "stdout",
     "output_type": "stream",
     "text": [
      "              id  user_id   call_date  duration\n",
      "124523   1440_39     1440  2018-10-06      9.14\n",
      "36987   1140_271     1140  2018-08-05     17.45\n",
      "136212   1494_54     1494  2018-11-30      4.82\n",
      "35590    1133_81     1133  2018-10-11      9.68\n",
      "134354  1488_541     1488  2018-06-20     12.72\n",
      "127180    1455_2     1455  2018-11-27      5.00\n",
      "50138   1181_450     1181  2018-07-22      7.14\n",
      "65787   1237_394     1237  2018-12-01     15.59\n",
      "62812   1226_211     1226  2018-11-20     11.61\n",
      "30984   1116_118     1116  2018-08-17      0.00\n"
     ]
    }
   ],
   "source": [
    "# Imprime una muestra de datos para las llamadas\n",
    "print(calls_df.sample(10))"
   ]
  },
  {
   "cell_type": "markdown",
   "metadata": {},
   "source": [
    "[Describe lo que ves y observas en la información general y en la muestra de datos impresa para el precio de datos anterior. ¿Hay algún problema (tipos de datos no adecuados, datos ausentes, etc.) que pudieran necesitar investigación y cambios adicionales? ¿Cómo se puede arreglar?]\n",
    "\n",
    "Creo que en este dataset podriamos hacer algunos cambios en el nobmre de las columnas 'id' and 'duration' para que sean mas homogeneos los nombres, tambien cambiar el datatype de 'call_date' por datetime64,"
   ]
  },
  {
   "cell_type": "markdown",
   "metadata": {},
   "source": [
    "1.8.1  Corregir los datos\n",
    "\n",
    "[Corrige los problemas obvios con los datos basándote en las observaciones iniciales.]"
   ]
  },
  {
   "cell_type": "code",
   "execution_count": 13,
   "metadata": {},
   "outputs": [
    {
     "name": "stdout",
     "output_type": "stream",
     "text": [
      "<class 'pandas.core.frame.DataFrame'>\n",
      "RangeIndex: 137735 entries, 0 to 137734\n",
      "Data columns (total 4 columns):\n",
      " #   Column         Non-Null Count   Dtype         \n",
      "---  ------         --------------   -----         \n",
      " 0   caller_id      137735 non-null  object        \n",
      " 1   user_id        137735 non-null  int64         \n",
      " 2   call_date      137735 non-null  datetime64[ns]\n",
      " 3   call_duration  137735 non-null  float64       \n",
      "dtypes: datetime64[ns](1), float64(1), int64(1), object(1)\n",
      "memory usage: 4.2+ MB\n",
      "None\n"
     ]
    }
   ],
   "source": [
    "# Modify calls_df columns name\n",
    "calls_df = calls_df.rename(columns={'id': 'caller_id', 'duration': 'call_duration'})\n",
    "\n",
    "# Modify datatype for column 'call_date'\n",
    "calls_df['call_date'] = pd.to_datetime(calls_df['call_date'])\n",
    "\n",
    "# Verify changes on dataset\n",
    "print(calls_df.info())"
   ]
  },
  {
   "cell_type": "markdown",
   "metadata": {},
   "source": [
    "1.8.2  Enriquecer los datos\n",
    "\n",
    "[Agrega factores adicionales a los datos si crees que pudieran ser útiles.]"
   ]
  },
  {
   "cell_type": "code",
   "execution_count": 14,
   "metadata": {},
   "outputs": [
    {
     "name": "stdout",
     "output_type": "stream",
     "text": [
      "Llamadas por usuario\n",
      "      user_id  call_date\n",
      "0       1000         16\n",
      "1       1001        261\n",
      "2       1002        113\n",
      "3       1003        149\n",
      "4       1004        370\n",
      "..       ...        ...\n",
      "476     1495        253\n",
      "477     1496        195\n",
      "478     1497         54\n",
      "479     1498        451\n",
      "480     1499        204\n",
      "\n",
      "[481 rows x 2 columns]\n",
      "\n",
      "Duracion maxima de una llamda: 37.6 minutos\n",
      "\n",
      "\n",
      "Lapso de tiempo entre llamadas por usuario\n",
      "\n",
      "        user_id  call_date time_between_calls\n",
      "9          1000 2018-12-26                NaT\n",
      "14         1000 2018-12-26             0 days\n",
      "0          1000 2018-12-27             1 days\n",
      "1          1000 2018-12-27             0 days\n",
      "2          1000 2018-12-27             0 days\n",
      "...         ...        ...                ...\n",
      "137708     1499 2018-12-29             1 days\n",
      "137734     1499 2018-12-29             0 days\n",
      "137638     1499 2018-12-30             1 days\n",
      "137587     1499 2018-12-31             1 days\n",
      "137709     1499 2018-12-31             0 days\n",
      "\n",
      "[137735 rows x 3 columns]\n"
     ]
    }
   ],
   "source": [
    "# Analizar llamadas por usuario\n",
    "calls_per_user = calls_df.groupby('user_id')['call_date'].count().reset_index()\n",
    "print('Llamadas por usuario\\n', calls_per_user)\n",
    "\n",
    "# Cual es el maximo tiempo en duracion de llamadas\n",
    "max_call_duration = calls_df['call_duration'].max()\n",
    "print(f'\\nDuracion maxima de una llamda: {max_call_duration} minutos\\n')\n",
    "\n",
    "# lapso de tiempo entre llamadas\n",
    "# Ordenar por usuario y fecha de llamada\n",
    "calls_df = calls_df.sort_values(by=['user_id', 'call_date'])\n",
    "# calcular tiempo entre llamadas\n",
    "calls_df['time_between_calls'] = calls_df.groupby('user_id')['call_date'].diff()\n",
    "# Imprimir resultado\n",
    "print('\\nLapso de tiempo entre llamadas por usuario\\n')\n",
    "print(calls_df[['user_id', 'call_date', 'time_between_calls']])\n"
   ]
  },
  {
   "cell_type": "markdown",
   "metadata": {},
   "source": [
    "1.9  Mensajes"
   ]
  },
  {
   "cell_type": "code",
   "execution_count": 15,
   "metadata": {},
   "outputs": [
    {
     "name": "stdout",
     "output_type": "stream",
     "text": [
      "<class 'pandas.core.frame.DataFrame'>\n",
      "RangeIndex: 76051 entries, 0 to 76050\n",
      "Data columns (total 3 columns):\n",
      " #   Column        Non-Null Count  Dtype \n",
      "---  ------        --------------  ----- \n",
      " 0   id            76051 non-null  object\n",
      " 1   user_id       76051 non-null  int64 \n",
      " 2   message_date  76051 non-null  object\n",
      "dtypes: int64(1), object(2)\n",
      "memory usage: 1.7+ MB\n",
      "None\n"
     ]
    }
   ],
   "source": [
    "# Imprime la información general/resumida sobre el DataFrame de los mensajes\n",
    "print(messages_df.info())\n"
   ]
  },
  {
   "cell_type": "code",
   "execution_count": 16,
   "metadata": {},
   "outputs": [
    {
     "name": "stdout",
     "output_type": "stream",
     "text": [
      "              id  user_id message_date\n",
      "26218   1159_221     1159   2018-11-07\n",
      "23602    1144_63     1144   2018-09-19\n",
      "57038   1362_106     1362   2018-11-14\n",
      "50993   1331_168     1331   2018-11-03\n",
      "23487   1142_208     1142   2018-08-26\n",
      "62779    1396_63     1396   2018-08-18\n",
      "37187   1247_351     1247   2018-07-30\n",
      "21588  1132_1002     1132   2018-09-15\n",
      "33207    1209_16     1209   2018-10-21\n",
      "42967   1281_253     1281   2018-08-29\n"
     ]
    }
   ],
   "source": [
    "# Imprime una muestra de datos para los mensajes\n",
    "print(messages_df.sample(10))\n"
   ]
  },
  {
   "cell_type": "markdown",
   "metadata": {},
   "source": [
    "[Describe lo que ves y observas en la información general y en la muestra de datos impresa para el precio de datos anterior. ¿Hay algún problema (tipos de datos no adecuados, datos ausentes, etc.) que pudieran necesitar investigación y cambios adicionales? ¿Cómo se puede arreglar?]"
   ]
  },
  {
   "cell_type": "markdown",
   "metadata": {},
   "source": [
    "1.9.1  Corregir los datos\n",
    "\n",
    "[Corrige los problemas obvios con los datos basándote en las observaciones iniciales.]"
   ]
  },
  {
   "cell_type": "code",
   "execution_count": 17,
   "metadata": {},
   "outputs": [
    {
     "name": "stdout",
     "output_type": "stream",
     "text": [
      "<class 'pandas.core.frame.DataFrame'>\n",
      "RangeIndex: 76051 entries, 0 to 76050\n",
      "Data columns (total 3 columns):\n",
      " #   Column        Non-Null Count  Dtype         \n",
      "---  ------        --------------  -----         \n",
      " 0   id            76051 non-null  object        \n",
      " 1   user_id       76051 non-null  int64         \n",
      " 2   message_date  76051 non-null  datetime64[ns]\n",
      "dtypes: datetime64[ns](1), int64(1), object(1)\n",
      "memory usage: 1.7+ MB\n",
      "None\n"
     ]
    }
   ],
   "source": [
    "# Corregir el datatype de 'message_date'\n",
    "messages_df['message_date'] = pd.to_datetime(messages_df['message_date'])\n",
    "\n",
    "print(messages_df.info())"
   ]
  },
  {
   "cell_type": "code",
   "execution_count": null,
   "metadata": {},
   "outputs": [],
   "source": []
  }
 ],
 "metadata": {
  "kernelspec": {
   "display_name": "Python 3",
   "language": "python",
   "name": "python3"
  },
  "language_info": {
   "codemirror_mode": {
    "name": "ipython",
    "version": 3
   },
   "file_extension": ".py",
   "mimetype": "text/x-python",
   "name": "python",
   "nbconvert_exporter": "python",
   "pygments_lexer": "ipython3",
   "version": "3.12.0"
  }
 },
 "nbformat": 4,
 "nbformat_minor": 2
}
